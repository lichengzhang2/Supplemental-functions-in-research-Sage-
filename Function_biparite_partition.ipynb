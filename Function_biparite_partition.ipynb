{
 "cells": [
  {
   "cell_type": "code",
   "execution_count": 21,
   "id": "73dbb367-bc93-4a84-b34f-69e2177ad057",
   "metadata": {},
   "outputs": [],
   "source": [
    "G = Graph([(1,2), (3,4), (5,6)])  # 一个3个连通分量的二部图\n"
   ]
  },
  {
   "cell_type": "code",
   "execution_count": 18,
   "id": "cb355da0-4015-42cd-bc42-38f04bcbde44",
   "metadata": {},
   "outputs": [],
   "source": [
    "def simple_bipartite_partition(graph):\n",
    "    blue_set = set()\n",
    "    green_set = set()\n",
    "    color = {}  # Record the color of each vertex: 'blue' or 'green'\n",
    "\n",
    "    def dfs(vertex, current_color):\n",
    "        if vertex in color:\n",
    "            # Already colored, check for conflicts\n",
    "            if color[vertex] != current_color:\n",
    "                print(f\"Conflict: vertex {vertex} is already {color[vertex]}, cannot color it {current_color}\")\n",
    "                raise ValueError(\"Graph is not bipartite\")\n",
    "            else:\n",
    "                print(f\"Vertex {vertex} is already {color[vertex]}, which is expected, continue\")\n",
    "            return\n",
    "\n",
    "        # Color the current vertex\n",
    "        color[vertex] = current_color\n",
    "        if current_color == 'blue':\n",
    "            blue_set.add(vertex)\n",
    "        else:\n",
    "            green_set.add(vertex)\n",
    "        print(f\"Vertex {vertex} colored {current_color}\")\n",
    "\n",
    "        next_color = 'green' if current_color == 'blue' else 'blue'\n",
    "        for neighbor in graph.neighbors(vertex):\n",
    "            print(f\"Visiting neighbor {neighbor} of vertex {vertex}, coloring it {next_color}\")\n",
    "            dfs(neighbor, next_color)\n",
    "\n",
    "    for v in graph.vertices():\n",
    "        if v not in color:\n",
    "            print(f\"Starting coloring at vertex {v} with color blue\")\n",
    "            dfs(v, 'blue')\n",
    "\n",
    "    print(\"Coloring complete, partition results:\")\n",
    "    print(\"Blue set:\", sorted(blue_set))\n",
    "    print(\"Green set:\", sorted(green_set))\n",
    "    print(color)\n",
    "\n",
    "    return sorted(blue_set), sorted(green_set)\n"
   ]
  },
  {
   "cell_type": "code",
   "execution_count": 19,
   "id": "8ddc74b8-7aee-4ecc-99e7-4bbc31c9ec6d",
   "metadata": {},
   "outputs": [
    {
     "name": "stdout",
     "output_type": "stream",
     "text": [
      "Starting coloring at vertex 1 with color blue\n",
      "Vertex 1 colored blue\n",
      "Visiting neighbor 2 of vertex 1, coloring it green\n",
      "Vertex 2 colored green\n",
      "Visiting neighbor 1 of vertex 2, coloring it blue\n",
      "Vertex 1 is already blue, which is expected, continue\n",
      "Visiting neighbor 3 of vertex 2, coloring it blue\n",
      "Vertex 3 colored blue\n",
      "Visiting neighbor 2 of vertex 3, coloring it green\n",
      "Vertex 2 is already green, which is expected, continue\n",
      "Starting coloring at vertex 4 with color blue\n",
      "Vertex 4 colored blue\n",
      "Visiting neighbor 5 of vertex 4, coloring it green\n",
      "Vertex 5 colored green\n",
      "Visiting neighbor 4 of vertex 5, coloring it blue\n",
      "Vertex 4 is already blue, which is expected, continue\n",
      "Visiting neighbor 6 of vertex 5, coloring it blue\n",
      "Vertex 6 colored blue\n",
      "Visiting neighbor 5 of vertex 6, coloring it green\n",
      "Vertex 5 is already green, which is expected, continue\n",
      "Coloring complete, partition results:\n",
      "Blue set: [1, 3, 4, 6]\n",
      "Green set: [2, 5]\n",
      "{1: 'blue', 2: 'green', 3: 'blue', 4: 'blue', 5: 'green', 6: 'blue'}\n"
     ]
    }
   ],
   "source": [
    "U, V = simple_bipartite_partition(G)"
   ]
  },
  {
   "cell_type": "code",
   "execution_count": 22,
   "id": "5ef230a2-1cf8-4e79-9b6d-59a3236d0f60",
   "metadata": {},
   "outputs": [],
   "source": [
    "def simple_bipartite_partition(G):\n",
    "    blue = set()\n",
    "    green = set()\n",
    "    color = {}  # Record the color of each vertex: 'blue' or 'green'\n",
    "\n",
    "    def dfs(v, current_color):\n",
    "        if v in color:\n",
    "            # If the vertex is already colored, check if the color matches\n",
    "            if color[v] != current_color:\n",
    "                raise ValueError(\"The graph is not bipartite\")\n",
    "            return\n",
    "        # Assign the current color to the vertex\n",
    "        color[v] = current_color\n",
    "        if current_color == 'blue':\n",
    "            blue.add(v)\n",
    "            next_color = 'green'\n",
    "        else:\n",
    "            green.add(v)\n",
    "            next_color = 'blue'\n",
    "\n",
    "        # Recursively color all neighbors with the opposite color\n",
    "        for nbr in G.neighbors(v):\n",
    "            dfs(nbr, next_color)\n",
    "\n",
    "    for vertex in G.vertices():\n",
    "        if vertex not in color:\n",
    "            dfs(vertex, 'blue')  # Start coloring from blue\n",
    "\n",
    "    return sorted(blue), sorted(green)"
   ]
  },
  {
   "cell_type": "code",
   "execution_count": 23,
   "id": "c19f624c-5b67-49a8-835d-e29ff106f0e5",
   "metadata": {},
   "outputs": [],
   "source": [
    "U,V=simple_bipartite_partition(G)"
   ]
  },
  {
   "cell_type": "code",
   "execution_count": null,
   "id": "0fb507dd-7986-4b85-8696-9b92eb01bd4f",
   "metadata": {},
   "outputs": [],
   "source": []
  }
 ],
 "metadata": {
  "kernelspec": {
   "display_name": "SageMath 10.6",
   "language": "sage",
   "name": "sagemath"
  },
  "language_info": {
   "codemirror_mode": {
    "name": "ipython",
    "version": 3
   },
   "file_extension": ".py",
   "mimetype": "text/x-python",
   "name": "python",
   "nbconvert_exporter": "python",
   "pygments_lexer": "ipython3",
   "version": "3.13.3"
  }
 },
 "nbformat": 4,
 "nbformat_minor": 5
}
