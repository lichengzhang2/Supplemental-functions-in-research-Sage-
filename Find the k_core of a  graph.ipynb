{
 "cells": [
  {
   "cell_type": "code",
   "execution_count": 58,
   "id": "38d86ed1-a6f2-48e6-86ea-1f09885c67bf",
   "metadata": {
    "scrolled": true
   },
   "outputs": [
    {
     "name": "stdout",
     "output_type": "stream",
     "text": [
      "3 - core of this graph is empty\n"
     ]
    }
   ],
   "source": [
    "def k_core(graph, k):\n",
    "    # Create a copy of the graph to avoid modifying the original\n",
    "    G = graph.copy()\n",
    "    \n",
    "    # Keep removing nodes with degree less than k until no such nodes remain\n",
    "    while True:\n",
    "        to_remove = [v for v in G.vertices() if G.degree(v) < k]\n",
    "        \n",
    "        if not to_remove:\n",
    "            break\n",
    "        \n",
    "        G.delete_vertices(to_remove)\n",
    "        \n",
    "        # If the graph becomes empty, we can stop\n",
    "        if not G.vertices():\n",
    "            print(f\"{k} - core of this graph is empty\")\n",
    "            break\n",
    "    \n",
    "    return G\n",
    "\n",
    "# Example usage:\n",
    "G = Graph({0: [1, 2,4], 1: [0, 2, 4], 2: [0, 1], 3: [4], 4: [0, 1,3]})\n",
    "core = k_core(G, 3)"
   ]
  },
  {
   "cell_type": "code",
   "execution_count": 47,
   "id": "332e0a7a-12a0-4486-9368-47078ca98523",
   "metadata": {},
   "outputs": [
    {
     "data": {
      "image/png": "[encoded data removed]",
      "text/plain": [
       "Graphics object consisting of 10 graphics primitives"
      ]
     },
     "execution_count": 47,
     "metadata": {},
     "output_type": "execute_result"
    }
   ],
   "source": [
    "core .plot()"
   ]
  },
  {
   "cell_type": "code",
   "execution_count": 40,
   "id": "3b213c30-538e-478a-9fb7-f6d0e4bc85e0",
   "metadata": {},
   "outputs": [
    {
     "data": {
      "text/plain": [
       "Graph on 0 vertices (use the .plot() method to plot)"
      ]
     },
     "execution_count": 40,
     "metadata": {},
     "output_type": "execute_result"
    }
   ],
   "source": [
    "core"
   ]
  },
  {
   "cell_type": "code",
   "execution_count": 22,
   "id": "dfaa7454-b516-44e0-b371-0ef79b13ed6f",
   "metadata": {},
   "outputs": [
    {
     "name": "stdout",
     "output_type": "stream",
     "text": [
      "部分和超过10时的n是: 12367\n"
     ]
    }
   ],
   "source": [
    "n = 1\n",
    "sum_ = 0\n",
    "\n",
    "while True:\n",
    "    sum_ += 1 / n\n",
    "    if sum_ > 10:\n",
    "        print(f\"部分和超过10时的n是: {n}\")\n",
    "        break\n",
    "    n += 1"
   ]
  },
  {
   "cell_type": "code",
   "execution_count": 60,
   "id": "d142e056-3178-4205-9648-16220ea5cc41",
   "metadata": {},
   "outputs": [
    {
     "name": "stdout",
     "output_type": "stream",
     "text": [
      "Is k-core empty? False\n"
     ]
    }
   ],
   "source": [
    "def is_k_core_empty(graph, k):\n",
    "    # Create a copy of the graph to avoid modifying the original\n",
    "    G = graph.copy()\n",
    "    \n",
    "    # Keep removing nodes with degree less than k until no such nodes remain\n",
    "    while True:\n",
    "        to_remove = [v for v in G.vertices() if G.degree(v) < k]\n",
    "        \n",
    "        if not to_remove:\n",
    "            break\n",
    "        \n",
    "        G.delete_vertices(to_remove)\n",
    "        \n",
    "        # If the graph becomes empty, we can stop\n",
    "        if not G.vertices():\n",
    "            return True  # k-core is empty\n",
    "    \n",
    "    return False  # k-core is not empty\n",
    "\n",
    "# Example usage:\n",
    "G = Graph({0: [1, 2, 4], 1: [0, 2, 4], 2: [0, 1], 3: [4], 4: [0, 1, 3]})\n",
    "is_empty = is_k_core_empty(G, 2)\n",
    "print(\"Is k-core empty?\", is_empty)"
   ]
  },
  {
   "cell_type": "code",
   "execution_count": null,
   "id": "98dcf6d6-b4aa-483a-9946-8841a43e5809",
   "metadata": {},
   "outputs": [],
   "source": []
  }
 ],
 "metadata": {
  "kernelspec": {
   "display_name": "SageMath 10.5",
   "language": "sage",
   "name": "sagemath"
  },
  "language_info": {
   "codemirror_mode": {
    "name": "ipython",
    "version": 3
   },
   "file_extension": ".py",
   "mimetype": "text/x-python",
   "name": "python",
   "nbconvert_exporter": "python",
   "pygments_lexer": "ipython3",
   "version": "3.13.2"
  }
 },
 "nbformat": 4,
 "nbformat_minor": 5
}
